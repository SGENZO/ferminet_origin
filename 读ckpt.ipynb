{
 "cells": [
  {
   "cell_type": "code",
   "execution_count": 2,
   "id": "5ac6339b-90ce-443f-afaf-4a464abf7e31",
   "metadata": {
    "jupyter": {
     "source_hidden": true
    }
   },
   "outputs": [],
   "source": [
    "import functools\n",
    "import importlib\n",
    "import time\n",
    "from typing import Optional, Sequence, Tuple, Union\n",
    "\n",
    "from absl import logging\n",
    "import chex\n",
    "from ferminet import checkpoint\n",
    "from ferminet import constants\n",
    "from ferminet import curvature_tags_and_blocks\n",
    "from ferminet import envelopes\n",
    "from ferminet import hamiltonian\n",
    "from ferminet import loss as qmc_loss_functions\n",
    "from ferminet.ibc import gaussian\n",
    "from ferminet.ibc import orbital_200\n",
    "from ferminet import initial_loss as initial_loss_functions\n",
    "from ferminet import mcmc\n",
    "from ferminet import networks\n",
    "from ferminet import pretrain\n",
    "#from ferminet import initial_pretrain\n",
    "from ferminet import energy as comp_loss_functions\n",
    "from ferminet.utils import multi_host\n",
    "from ferminet.utils import statistics\n",
    "from ferminet.utils import system\n",
    "from ferminet.utils import writers\n",
    "from ferminet.utils import plotting\n",
    "from ferminet.utils import curveplot\n",
    "import jax\n",
    "import jax.numpy as jnp\n",
    "import kfac_jax\n",
    "import ml_collections\n",
    "import numpy as np\n",
    "import optax\n",
    "from typing_extensions import Protocol\n",
    "import os\n",
    "import sys"
   ]
  },
  {
   "cell_type": "code",
   "execution_count": 208,
   "id": "eddcf6ae-ce9d-4a19-88f0-f87a372d5c11",
   "metadata": {
    "editable": true,
    "slideshow": {
     "slide_type": ""
    },
    "tags": []
   },
   "outputs": [],
   "source": [
    "ckpt_path = 'ckpt/stable_env_init/ckpt_init'"
   ]
  },
  {
   "cell_type": "code",
   "execution_count": 107,
   "id": "b6385467-2540-494b-8c56-a68482441375",
   "metadata": {},
   "outputs": [],
   "source": [
    "filename = 'ckpt/exp_5e-3_m=200/ckpt_init/qmcjax_ckpt_010000.npz'"
   ]
  },
  {
   "cell_type": "code",
   "execution_count": 170,
   "id": "405c00e1-49a7-40b6-8323-1852dbde07db",
   "metadata": {},
   "outputs": [],
   "source": [
    "filename = 'ckpt/ferminet_success.npz'"
   ]
  },
  {
   "cell_type": "code",
   "execution_count": 209,
   "id": "ba0a5de8-74a8-4780-9f6c-7918d97f3df7",
   "metadata": {
    "editable": true,
    "slideshow": {
     "slide_type": ""
    },
    "tags": []
   },
   "outputs": [],
   "source": [
    "filename = (checkpoint.find_last_checkpoint(ckpt_path))\n",
    "t, data, params, opt_state, _ = checkpoint.restore(filename, 256)"
   ]
  },
  {
   "cell_type": "code",
   "execution_count": 183,
   "id": "d0a0b94e-db0b-46b7-b433-ca3e234cf059",
   "metadata": {},
   "outputs": [],
   "source": [
    "t, data_old, params_old, opt_state, _ = checkpoint.restore(filename_old, 256)"
   ]
  },
  {
   "cell_type": "code",
   "execution_count": 210,
   "id": "0efa17a5-b10d-44ee-b343-690aac4919b4",
   "metadata": {},
   "outputs": [],
   "source": [
    "a = data[:,:,0:2].reshape(256,2)"
   ]
  },
  {
   "cell_type": "code",
   "execution_count": 211,
   "id": "d41c515c-757c-4c05-9522-e0d89b2d8def",
   "metadata": {
    "editable": true,
    "slideshow": {
     "slide_type": ""
    },
    "tags": []
   },
   "outputs": [
    {
     "data": {
      "text/plain": [
       "[{'pi': Array([[[0.9981711 , 0.9982601 , 0.9978113 , 0.9992041 , 0.99861753,\n",
       "           0.998801  , 0.9978721 , 0.99775237, 0.99788433, 0.9978614 ,\n",
       "           1.0013493 , 0.9981358 , 1.0014533 , 0.9979421 , 0.9988418 ,\n",
       "           1.000721  ]]], dtype=float32),\n",
       "  'sigma': Array([[[1.001964  , 1.0018363 , 1.0022144 , 1.0008465 , 1.0016326 ,\n",
       "           1.0012993 , 1.0021758 , 1.0023264 , 1.0022722 , 1.0021557 ,\n",
       "           0.9989278 , 1.0019662 , 0.99965256, 1.0021143 , 1.0012379 ,\n",
       "           0.9993713 ]]], dtype=float32)}]"
      ]
     },
     "execution_count": 211,
     "metadata": {},
     "output_type": "execute_result"
    }
   ],
   "source": [
    "params['envelope']"
   ]
  },
  {
   "cell_type": "code",
   "execution_count": 220,
   "id": "d44b73c3-398b-4aa6-bf50-4685ed835556",
   "metadata": {
    "editable": true,
    "slideshow": {
     "slide_type": ""
    },
    "tags": []
   },
   "outputs": [],
   "source": [
    "r_ae = jnp.sqrt(jnp.sum(data**2,axis=2))"
   ]
  },
  {
   "cell_type": "code",
   "execution_count": 221,
   "id": "690acea2-774b-41a0-8a3a-9c83f513da21",
   "metadata": {},
   "outputs": [
    {
     "data": {
      "text/plain": [
       "(1, 256)"
      ]
     },
     "execution_count": 221,
     "metadata": {},
     "output_type": "execute_result"
    }
   ],
   "source": [
    "r_ae.shape"
   ]
  },
  {
   "cell_type": "code",
   "execution_count": 222,
   "id": "e6440ccc-a3f6-4a70-881a-e85826ab911e",
   "metadata": {},
   "outputs": [],
   "source": [
    "sigma = params['envelope'][0]['sigma'][0]\n",
    "pi = params['envelope'][0]['pi'][0]"
   ]
  },
  {
   "cell_type": "code",
   "execution_count": 223,
   "id": "97a6a182-0c1e-41e7-aa0c-83445a4ba6fa",
   "metadata": {
    "editable": true,
    "slideshow": {
     "slide_type": ""
    },
    "tags": []
   },
   "outputs": [],
   "source": [
    "f = lambda x: jnp.sum(jnp.exp(-x * sigma) * pi, axis=1)\n",
    "fvmap = jax.vmap(f, in_axes=1,out_axes=0)"
   ]
  },
  {
   "cell_type": "code",
   "execution_count": 224,
   "id": "c7e4f617-6b0d-435c-81e9-817d9e6fc5ed",
   "metadata": {
    "editable": true,
    "slideshow": {
     "slide_type": ""
    },
    "tags": []
   },
   "outputs": [
    {
     "data": {
      "text/plain": [
       "Array(4.0742617, dtype=float32)"
      ]
     },
     "execution_count": 224,
     "metadata": {},
     "output_type": "execute_result"
    }
   ],
   "source": [
    "jnp.max(jnp.abs(fvmap(r_ae)))"
   ]
  },
  {
   "cell_type": "code",
   "execution_count": 225,
   "id": "4025c6a7-0a22-4825-80dd-d7b55bbc54ef",
   "metadata": {
    "editable": true,
    "slideshow": {
     "slide_type": ""
    },
    "tags": []
   },
   "outputs": [
    {
     "name": "stdout",
     "output_type": "stream",
     "text": [
      "[[2.07128897e-02 1.65368747e-02 8.23000970e-04 5.12325168e-02\n",
      "  7.16191530e-03 7.46250033e-01 5.49528934e-03 9.78338122e-02\n",
      "  3.16433934e-03 3.57088214e-03 2.36355816e-03 9.15792887e-04\n",
      "  3.23513662e-03 8.40057135e-02 2.70569213e-02 6.25572540e-03\n",
      "  5.24397612e-01 7.21981144e-03 4.01803628e-02 1.33062955e-02\n",
      "  2.28022365e-03 2.24060053e-03 1.62540339e-02 1.08449543e-02\n",
      "  9.15402547e-03 2.89504020e-03 1.31578594e-01 1.66523475e-02\n",
      "  2.86355126e-03 7.15994276e-03 3.82830352e-02 2.56430544e-03\n",
      "  1.23406686e-02 3.94078195e-02 7.22240051e-03 1.09648388e-02\n",
      "  1.06057676e-04 4.33525117e-03 6.58578202e-02 7.88290352e-02\n",
      "  1.33214772e-01 2.86264241e-01 2.83888429e-01 7.41059426e-03\n",
      "  3.93366575e-01 2.00905427e-01 3.29133719e-01 4.68635838e-03\n",
      "  9.16882884e-03 6.46587182e-03 5.00874296e-02 3.31404898e-03\n",
      "  2.90034758e-03 7.61749735e-03 1.04615934e-01 1.07086459e-02\n",
      "  3.74722295e-02 3.08939983e-04 2.17029620e-02 1.40069038e-01\n",
      "  5.01931040e-03 2.68804911e-03 4.40546349e-02 1.81408669e-03\n",
      "  2.83932989e-03 1.81292463e-03 1.11965025e-02 1.08486339e-02\n",
      "  1.42692076e-02 1.15822088e-02 2.43500113e-01 5.63217467e-03\n",
      "  1.68912217e-01 3.74111943e-02 1.68412000e-01 4.84680831e-02\n",
      "  1.37287661e-01 2.61240266e-03 3.04053677e-03 2.45643169e-01\n",
      "  4.28092852e-03 2.50754207e-02 5.02123358e-03 7.31470808e-03\n",
      "  3.59101370e-02 6.40538754e-03 1.69255235e-03 4.51450169e-01\n",
      "  1.74614729e-03 1.03464862e-02 7.76156932e-02 1.54164769e-02\n",
      "  8.19012970e-02 5.18748909e-03 4.78563905e-02 7.68969534e-03\n",
      "  1.48084573e-02 2.98732286e-03 1.09185934e-01 5.60217537e-03\n",
      "  1.28973518e-02 5.75945154e-02 1.57749634e-02 3.37518123e-03\n",
      "  1.01749385e-02 2.06938433e-03 6.76031485e-02 6.27390388e-03\n",
      "  1.35963205e-02 6.66077994e-03 1.33138653e-02 2.05132943e-02\n",
      "  1.15454504e-02 3.94767988e-03 4.07426167e+00 1.53051387e-03\n",
      "  1.11837275e-02 1.46144629e-02 2.62811370e-02 5.72072575e-03\n",
      "  9.31833591e-03 1.84193999e-01 2.47226760e-01 1.00437820e-01\n",
      "  5.46768978e-02 3.77139403e-03 1.92468753e-03 5.20833256e-03\n",
      "  3.31610143e-02 6.82919193e-03 6.35078847e-02 3.94004211e-02\n",
      "  6.89852610e-02 1.14015173e-02 5.92503995e-02 2.79230019e-03\n",
      "  2.36877166e-02 2.88291764e-03 5.26428461e-01 4.32363246e-03\n",
      "  7.33801071e-03 1.21874223e-03 8.75460333e-04 1.13007929e-02\n",
      "  4.39944804e-01 3.82774393e-03 3.39958840e-03 3.63667041e-01\n",
      "  3.04613728e-03 6.36529131e-03 1.26025248e-02 1.62537321e-02\n",
      "  1.22929849e-02 2.88617890e-03 2.81656673e-03 2.09679417e-02\n",
      "  7.16300961e-03 1.34845804e-02 8.89337528e-03 3.93205788e-03\n",
      "  1.12055903e-02 2.34727049e-03 1.03015099e-02 8.45829863e-03\n",
      "  1.39293820e-01 7.39508029e-03 1.99006852e-02 3.76433879e-02\n",
      "  1.12870373e-02 3.78504619e-02 2.34556615e-01 1.00840703e-01\n",
      "  7.64210746e-02 1.28327962e-02 5.50311664e-03 1.03761461e-02\n",
      "  3.50387604e-03 1.96724951e-01 1.84267259e-03 2.41103582e-03\n",
      "  2.22848989e-02 2.03496544e-03 2.60532022e-01 2.62283720e-03\n",
      "  7.08497036e-03 5.01891971e-01 5.41529357e-02 2.64636381e-03\n",
      "  2.33290568e-01 5.18966168e-02 4.32091299e-03 1.43768741e-02\n",
      "  2.32044071e-01 7.82879628e-03 5.74481115e-03 7.77212670e-03\n",
      "  5.92680611e-02 1.12741321e-01 7.91052170e-03 3.88910016e-03\n",
      "  1.95804462e-02 4.02695872e-03 1.94071920e-03 1.23784388e-03\n",
      "  2.31635198e-02 6.98361248e-02 9.28549916e-02 2.55043488e-02\n",
      "  4.59097466e-03 4.86640399e-03 2.03852922e-01 5.99039532e-02\n",
      "  1.44096613e-01 8.97297286e-04 2.32836744e-03 4.27701399e-02\n",
      "  1.42121059e-03 5.42814424e-03 3.84508848e-01 1.05295517e-03\n",
      "  1.09943291e-02 1.79614164e-02 2.07001087e-03 1.18619502e-01\n",
      "  9.59932804e-02 2.60500191e-03 4.60257195e-03 7.36429393e-02\n",
      "  4.44493163e-03 3.52004846e-03 4.75411583e-03 6.51809573e-01\n",
      "  6.84329271e-01 8.27110279e-03 1.65085718e-01 2.26440609e-01\n",
      "  2.25696966e-01 2.75122235e-03 1.09058777e-02 2.99734995e-03\n",
      "  2.84261286e-01 3.38576473e-02 9.64805135e-04 3.61042857e-01\n",
      "  5.13533037e-03 1.82110704e-02 4.05483972e-03 1.37016978e-02\n",
      "  7.01125246e-03 2.43437644e-02 2.23488454e-02 4.31627259e-02\n",
      "  1.89110860e-02 7.35638887e-02 4.14883578e-03 2.46601016e-03]]\n"
     ]
    }
   ],
   "source": [
    "print(fvmap(r_ae).reshape(1,-1))"
   ]
  },
  {
   "cell_type": "code",
   "execution_count": 226,
   "id": "776eaa1d-4799-497d-9951-63e67a1fbf04",
   "metadata": {
    "editable": true,
    "slideshow": {
     "slide_type": ""
    },
    "tags": []
   },
   "outputs": [
    {
     "data": {
      "text/plain": [
       "'ckpt/stable_env_init/ckpt_init/qmcjax_ckpt_010000.npz'"
      ]
     },
     "execution_count": 226,
     "metadata": {},
     "output_type": "execute_result"
    }
   ],
   "source": [
    "filename"
   ]
  },
  {
   "cell_type": "code",
   "execution_count": 227,
   "id": "afe2b0bf-682d-46df-af25-d8c986f3f226",
   "metadata": {
    "editable": true,
    "jupyter": {
     "source_hidden": true
    },
    "slideshow": {
     "slide_type": ""
    },
    "tags": []
   },
   "outputs": [
    {
     "data": {
      "image/png": "[encoded data removed]",
      "text/plain": [
       "<Figure size 640x480 with 1 Axes>"
      ]
     },
     "metadata": {},
     "output_type": "display_data"
    }
   ],
   "source": [
    "import matplotlib.pyplot as plt\n",
    "# Calculate the point density\n",
    "x = a[:,0]\n",
    "y = a[:,1]\n",
    "\n",
    "fig, ax = plt.subplots()\n",
    "plt.scatter(x, y) # c表示标记的颜色\n",
    "plt.title('exp_5e-3, 15000 steps')\n",
    "plt.xlabel('x')\n",
    "plt.ylabel('y')\n",
    "plt.show()"
   ]
  },
  {
   "cell_type": "code",
   "execution_count": 47,
   "id": "e1c64578-038d-43c5-8b8c-8e7f7e8a7342",
   "metadata": {
    "jupyter": {
     "source_hidden": true
    }
   },
   "outputs": [],
   "source": [
    "from jax.scipy.stats import multivariate_normal\n",
    "def _i_s(data: jnp.ndarray) -> jnp.ndarray:\n",
    "\n",
    "        m = 3\n",
    "        mean = jnp.zeros(m)\n",
    "        cov = 5 * jnp.eye(m)\n",
    "        \n",
    "        pro_dis = multivariate_normal.pdf(data, mean, cov)\n",
    "        pro_dis_sq = jnp.sqrt(pro_dis)\n",
    "\n",
    "        return pro_dis_sq"
   ]
  },
  {
   "cell_type": "code",
   "execution_count": 64,
   "id": "d5d972f4-9851-4f53-b960-e8d8d88efe62",
   "metadata": {
    "editable": true,
    "jupyter": {
     "source_hidden": true
    },
    "slideshow": {
     "slide_type": ""
    },
    "tags": []
   },
   "outputs": [],
   "source": [
    "from ferminet import base_config\n",
    "from ferminet.configs import atom\n",
    "cfg = atom.get_config()\n",
    "cfg.system.atom = 'H'\n",
    "cfg = base_config.resolve(cfg)\n",
    "cfg.batch_size = 256"
   ]
  },
  {
   "cell_type": "code",
   "execution_count": 65,
   "id": "d965daa9-30c6-4906-addb-c2f4d9893f8c",
   "metadata": {
    "editable": true,
    "jupyter": {
     "source_hidden": true
    },
    "slideshow": {
     "slide_type": ""
    },
    "tags": []
   },
   "outputs": [
    {
     "name": "stdout",
     "output_type": "stream",
     "text": [
      "converged SCF energy = -0.47103905418349  <S^2> = 0.75  2S+1 = 2\n"
     ]
    }
   ],
   "source": [
    "    # Device logging\n",
    "    num_devices = jax.local_device_count()\n",
    "    num_hosts = jax.device_count() // num_devices\n",
    "    logging.info('Starting QMC with %i XLA devices per host '\n",
    "                 'across %i hosts.', num_devices, num_hosts)\n",
    "    if cfg.batch_size % (num_devices * num_hosts) != 0:\n",
    "        raise ValueError('Batch size must be divisiaable by number of devices, '\n",
    "                         f'got batch size {cfg.batch_size} for '\n",
    "                         f'{num_devices * num_hosts} devices.')\n",
    "    host_batch_size = cfg.batch_size // num_hosts  # batch size per host\n",
    "    device_batch_size = host_batch_size // num_devices  # batch size per device\n",
    "    data_shape = (num_devices, device_batch_size)\n",
    "\n",
    "    # Check if mol is a pyscf molecule and convert to internal representation\n",
    "    if cfg.system.pyscf_mol:\n",
    "        cfg.update(\n",
    "            system.pyscf_mol_to_internal_representation(cfg.system.pyscf_mol))\n",
    "\n",
    "    # Convert mol config into array of atomic positions and charges\n",
    "    atoms = jnp.stack([jnp.array(atom.coords) for atom in cfg.system.molecule])\n",
    "    charges = jnp.array([atom.charge for atom in cfg.system.molecule])\n",
    "    nspins = cfg.system.electrons\n",
    "\n",
    "    if cfg.debug.deterministic:\n",
    "        seed = 23\n",
    "    else:\n",
    "        seed = 1e6 * time.time()\n",
    "        seed = int(multi_host.broadcast_to_hosts(seed))\n",
    "    key = jax.random.PRNGKey(seed)\n",
    "\n",
    "    # Create parameters, network, and vmapped/pmapped derivations\n",
    "\n",
    "    if cfg.pretrain.method == 'direct_init' or (\n",
    "            cfg.pretrain.method == 'hf' and cfg.pretrain.iterations > 0):\n",
    "        hartree_fock = pretrain.get_hf(\n",
    "            pyscf_mol=cfg.system.get('pyscf_mol'),\n",
    "            molecule=cfg.system.molecule,\n",
    "            nspins=nspins,\n",
    "            restricted=False,\n",
    "            basis=cfg.pretrain.basis)\n",
    "        # broadcast the result of PySCF from host 0 to all others hosts\n",
    "        hartree_fock.mean_field.mo_coeff = tuple([\n",
    "            multi_host.broadcast_to_hosts(x)\n",
    "            for x in hartree_fock.mean_field.mo_coeff\n",
    "        ])\n",
    "\n",
    "    hf_solution = hartree_fock if cfg.pretrain.method == 'direct_init' else None\n",
    "\n",
    "    if cfg.network.make_feature_layer_fn:\n",
    "        feature_layer_module, feature_layer_fn = (\n",
    "            cfg.network.make_feature_layer_fn.rsplit('.', maxsplit=1))\n",
    "        feature_layer_module = importlib.import_module(feature_layer_module)\n",
    "        make_feature_layer = getattr(feature_layer_module, feature_layer_fn)\n",
    "        feature_layer = make_feature_layer(\n",
    "            charges,\n",
    "            cfg.system.electrons,\n",
    "            cfg.system.ndim,\n",
    "            **cfg.network.make_feature_layer_kwargs)  # type: networks.FeatureLayer\n",
    "    else:\n",
    "        feature_layer = networks.make_ferminet_features(\n",
    "            charges,\n",
    "            cfg.system.electrons,\n",
    "            cfg.system.ndim,\n",
    "        )\n",
    "\n",
    "    if cfg.network.make_envelope_fn:\n",
    "        envelope_module, envelope_fn = (\n",
    "            cfg.network.make_envelope_fn.rsplit('.', maxsplit=1))\n",
    "        envelope_module = importlib.import_module(envelope_module)\n",
    "        make_envelope = getattr(envelope_module, envelope_fn)\n",
    "        envelope = make_envelope(**cfg.network.make_envelope_kwargs)  # type: envelopes.Envelope\n",
    "    else:\n",
    "        envelope = envelopes.make_isotropic_envelope()\n",
    "\n",
    "    # network构建\n",
    "    network_init, signed_network, network_options = networks.make_fermi_net(\n",
    "        atoms,\n",
    "        nspins,\n",
    "        charges,\n",
    "        envelope=envelope,\n",
    "        feature_layer=feature_layer,\n",
    "        bias_orbitals=cfg.network.bias_orbitals,\n",
    "        use_last_layer=cfg.network.use_last_layer,\n",
    "        hf_solution=hf_solution,\n",
    "        full_det=cfg.network.full_det,\n",
    "        ndim=cfg.system.ndim,\n",
    "        **cfg.network.detnet)"
   ]
  },
  {
   "cell_type": "code",
   "execution_count": 66,
   "id": "0d9e46db-fa68-41a3-9697-c1c4ac037fb4",
   "metadata": {
    "editable": true,
    "slideshow": {
     "slide_type": ""
    },
    "tags": []
   },
   "outputs": [],
   "source": [
    "network = lambda *args, **kwargs: signed_network(*args, **kwargs)[1]  # type: networks.LogFermiNetLike\n",
    "batch_network = jax.vmap(network, in_axes=(None, 0), out_axes=0)"
   ]
  },
  {
   "cell_type": "code",
   "execution_count": 228,
   "id": "325d0d6d-0211-424a-b448-f31601e6f1cf",
   "metadata": {
    "editable": true,
    "slideshow": {
     "slide_type": ""
    },
    "tags": []
   },
   "outputs": [],
   "source": [
    "c = jnp.abs(constants.pmap(batch_network)(params, data) - _i_s(data))"
   ]
  },
  {
   "cell_type": "code",
   "execution_count": 229,
   "id": "690ba0f4-ec57-4652-9b45-46875d1ecfa8",
   "metadata": {},
   "outputs": [
    {
     "data": {
      "text/plain": [
       "Array(3.4204915, dtype=float32)"
      ]
     },
     "execution_count": 229,
     "metadata": {},
     "output_type": "execute_result"
    }
   ],
   "source": [
    "jnp.max(c)"
   ]
  },
  {
   "cell_type": "code",
   "execution_count": 230,
   "id": "512b48ad-d930-40dd-b740-8bb0ab987b42",
   "metadata": {
    "editable": true,
    "slideshow": {
     "slide_type": ""
    },
    "tags": []
   },
   "outputs": [],
   "source": [
    "d = constants.pmap(batch_network)(params,data)"
   ]
  },
  {
   "cell_type": "code",
   "execution_count": 231,
   "id": "b8c057ee-dd1f-470c-aca1-9f1444e1dd5b",
   "metadata": {},
   "outputs": [
    {
     "name": "stdout",
     "output_type": "stream",
     "text": [
      "-0.09203547\n"
     ]
    },
    {
     "data": {
      "text/plain": [
       "Array([[ 6.42519910e-03,  3.45455250e-03, -1.38176048e+00,\n",
       "         3.25906537e-02,  1.86069962e-02,  7.25718439e-02,\n",
       "         9.67161637e-03, -2.47464757e-02, -5.06544225e-02,\n",
       "        -6.11551804e-04, -3.37965101e-01, -1.27292275e+00,\n",
       "        -2.68308688e-02,  4.58969846e-02,  2.11730432e-02,\n",
       "         1.20846024e-02,  8.43723193e-02,  1.04525266e-02,\n",
       "         5.92973595e-03,  1.21254716e-02, -3.73975158e-01,\n",
       "        -3.91924322e-01,  1.14649022e-02,  1.63282920e-02,\n",
       "         1.23157734e-02, -1.37627080e-01,  2.56921686e-02,\n",
       "         2.15973165e-02, -1.49753690e-01,  2.18194183e-02,\n",
       "        -3.36703699e-04, -2.58996874e-01,  6.67864038e-03,\n",
       "         2.11418811e-02,  4.75656427e-03,  7.17349630e-03,\n",
       "        -3.42042851e+00,  3.75435799e-02,  1.90975051e-02,\n",
       "         3.91548797e-02, -2.15760581e-02,  8.75676870e-02,\n",
       "         5.11962697e-02,  2.16058325e-02,  9.17490497e-02,\n",
       "         6.95414320e-02,  5.25720008e-02, -5.67577593e-03,\n",
       "         9.74575616e-03,  1.64522473e-02,  2.27548704e-02,\n",
       "        -6.74094725e-03, -1.37337580e-01, -5.90574741e-03,\n",
       "         1.26478914e-02,  1.65264718e-02,  4.65276949e-02,\n",
       "        -2.35334563e+00,  1.91440526e-02,  5.58482809e-03,\n",
       "        -3.34535679e-03, -2.12345287e-01,  3.56089994e-02,\n",
       "        -6.01108134e-01, -1.57586709e-01, -5.99596620e-01,\n",
       "         9.84314550e-03,  9.95409861e-03,  8.37055407e-03,\n",
       "         2.39297077e-02,  9.43557471e-02,  1.54006542e-04,\n",
       "         2.26421822e-02,  1.14439251e-02,  4.76697199e-02,\n",
       "         2.68661156e-02,  3.89877334e-02, -2.40666151e-01,\n",
       "        -9.24924612e-02,  9.84660983e-02,  4.76936996e-02,\n",
       "         1.29824877e-02, -5.11198258e-03,  4.65262681e-03,\n",
       "         4.75051347e-03, -1.01403135e-03, -6.65174127e-01,\n",
       "         1.31411105e-01, -6.33590579e-01,  5.45829535e-04,\n",
       "         2.13294253e-02, -4.08494467e-04,  2.42366996e-02,\n",
       "         4.27974062e-03,  2.28280481e-02,  9.05029941e-03,\n",
       "         1.36886220e-02, -1.05458692e-01,  1.21761123e-02,\n",
       "        -8.52621067e-03,  8.25398788e-03,  2.93841120e-02,\n",
       "         3.59404869e-02,  3.14360950e-03,  1.74884424e-02,\n",
       "        -4.68137681e-01,  3.14907581e-02,  2.27668812e-03,\n",
       "         1.45734404e-03,  1.83095094e-02,  6.07347116e-03,\n",
       "         8.27491377e-03,  3.53093678e-03,  5.02883084e-02,\n",
       "         9.01434571e-02, -7.64539957e-01,  3.00705852e-03,\n",
       "        -1.12113589e-03,  7.72784604e-03,  4.38157981e-03,\n",
       "        -1.80622051e-03,  3.16644758e-02,  5.94245158e-02,\n",
       "         3.54659967e-02,  2.02510618e-02,  1.19690569e-02,\n",
       "        -5.42274177e-01,  1.58929750e-02,  2.92484351e-02,\n",
       "         1.89203043e-02,  3.11569851e-02,  2.01769955e-02,\n",
       "         3.53553034e-02,  1.53169557e-02,  3.09474654e-02,\n",
       "        -1.73520923e-01,  9.28677898e-03, -1.39886945e-01,\n",
       "         1.32987946e-01,  1.96866654e-02,  1.34914061e-02,\n",
       "        -9.93287802e-01, -1.32213175e+00,  3.00503802e-03,\n",
       "         6.46003783e-02,  1.39033152e-02,  1.38313640e-02,\n",
       "         1.21836826e-01, -8.91097113e-02, -1.55378832e-03,\n",
       "         1.06675625e-02,  1.82317849e-02,  9.61057656e-03,\n",
       "        -1.41138554e-01, -1.66971028e-01,  2.63644233e-02,\n",
       "        -1.08776679e-02,  6.78899791e-03, -1.25110894e-03,\n",
       "         2.67710648e-02,  1.86902704e-04, -3.43387663e-01,\n",
       "        -2.35907128e-03,  1.60228498e-02,  1.27627710e-02,\n",
       "         6.90419739e-03,  2.87036896e-02,  1.95280388e-02,\n",
       "         1.87975913e-02,  3.18812355e-02,  6.02975152e-02,\n",
       "         3.76176313e-02,  4.64929864e-02,  1.83214471e-02,\n",
       "        -8.13890528e-03,  1.34456540e-02,  9.60372761e-03,\n",
       "         5.04952855e-02, -5.87437332e-01, -3.21536988e-01,\n",
       "         6.88324263e-03, -4.84315097e-01,  9.51519683e-02,\n",
       "        -2.37379715e-01,  7.05694110e-05, -2.05486976e-02,\n",
       "         2.66878475e-02, -2.27811173e-01,  1.04051329e-01,\n",
       "        -2.52040190e-04,  1.21795274e-02, -5.90646686e-03,\n",
       "         1.17229614e-02,  1.11745950e-02,  1.08779529e-02,\n",
       "         7.83347525e-03,  2.06675548e-02,  3.88548411e-02,\n",
       "         1.16470819e-02,  5.04782870e-02,  3.47053036e-02,\n",
       "         4.40685190e-02, -5.33984244e-01, -9.80107903e-01,\n",
       "         9.01131425e-03,  2.69343480e-02,  3.32585201e-02,\n",
       "         1.56499557e-02, -1.91147644e-02,  2.84326798e-03,\n",
       "         5.63890897e-02,  3.95142995e-02,  4.66274805e-02,\n",
       "        -1.29320192e+00, -3.50475997e-01,  1.44546535e-02,\n",
       "        -8.39074850e-01, -9.17975092e-04,  3.87347788e-02,\n",
       "        -1.13652265e+00,  2.28108019e-02,  1.80298444e-02,\n",
       "        -4.70813811e-01,  1.45170428e-02,  2.53879484e-02,\n",
       "        -2.44124576e-01,  1.87651832e-02,  1.52689386e-02,\n",
       "         2.66094971e-02,  2.47268975e-02,  1.67036299e-02,\n",
       "         5.17766038e-03,  8.58891639e-04,  1.94486585e-02,\n",
       "         3.43800858e-02,  7.28352219e-02,  5.57882525e-02,\n",
       "        -1.87555701e-01,  2.05380451e-02, -1.03585504e-01,\n",
       "         5.15341796e-02,  5.32067427e-03, -1.22262669e+00,\n",
       "         1.18639074e-01,  4.05655941e-03, -4.91740007e-04,\n",
       "         1.63721517e-02,  8.98626726e-03,  1.19826021e-02,\n",
       "         1.90425366e-02,  1.91537607e-02, -7.81245180e-04,\n",
       "         1.37302466e-02,  9.66488570e-03,  3.88327129e-02,\n",
       "        -2.95856595e-01]], dtype=float32)"
      ]
     },
     "execution_count": 231,
     "metadata": {},
     "output_type": "execute_result"
    }
   ],
   "source": [
    "print(jnp.mean(d))\n",
    "d"
   ]
  },
  {
   "cell_type": "code",
   "execution_count": 122,
   "id": "f073eb9f-90de-4504-8f25-9927e5b80450",
   "metadata": {},
   "outputs": [],
   "source": [
    "batch_is = jax.vmap(_i_s, in_axes=0, out_axes=0)"
   ]
  },
  {
   "cell_type": "code",
   "execution_count": 123,
   "id": "e3407540-48fe-4a15-912c-5e0b43312b61",
   "metadata": {},
   "outputs": [
    {
     "data": {
      "text/plain": [
       "Array([[0.02262327, 0.0472691 , 0.03237529, 0.06163132, 0.01429678,\n",
       "        0.03438582, 0.01996008, 0.02114531, 0.03152928, 0.03390354,\n",
       "        0.01966132, 0.02626262, 0.01394312, 0.02025666, 0.02957783,\n",
       "        0.05601219, 0.01848237, 0.02242898, 0.03252875, 0.05883812,\n",
       "        0.01071872, 0.02684108, 0.04115377, 0.03381904, 0.03408651,\n",
       "        0.03546681, 0.02691009, 0.03691158, 0.01690469, 0.03189737,\n",
       "        0.06713511, 0.01979998, 0.01991589, 0.02738153, 0.01492883,\n",
       "        0.05636442, 0.0274658 , 0.02245627, 0.04109124, 0.01963053,\n",
       "        0.03344945, 0.00966299, 0.04322227, 0.01457078, 0.03649938,\n",
       "        0.05254999, 0.04390363, 0.0689636 , 0.05995747, 0.0301543 ,\n",
       "        0.05422073, 0.03298125, 0.01616168, 0.03169559, 0.05738107,\n",
       "        0.03284768, 0.02129496, 0.04637578, 0.03711573, 0.01962344,\n",
       "        0.02166166, 0.06282557, 0.02484926, 0.03705048, 0.03602973,\n",
       "        0.04620858, 0.01391556, 0.02047527, 0.04997971, 0.06526598,\n",
       "        0.01887653, 0.0589622 , 0.01890506, 0.01278491, 0.05127594,\n",
       "        0.05482689, 0.03438712, 0.03297128, 0.01337467, 0.02530749,\n",
       "        0.03051431, 0.02206643, 0.00987486, 0.03853412, 0.02957536,\n",
       "        0.02322603, 0.06721905, 0.02308373, 0.02027514, 0.01692408,\n",
       "        0.01542321, 0.04419987, 0.03395492, 0.02133463, 0.01389664,\n",
       "        0.06556497, 0.05017614, 0.01955322, 0.04011824, 0.03115478,\n",
       "        0.06562205, 0.05104449, 0.03821499, 0.01101266, 0.07090493,\n",
       "        0.02026089, 0.05618439, 0.01948342, 0.03692155, 0.03585886,\n",
       "        0.06655232, 0.01639984, 0.02537148, 0.01848426, 0.04449691,\n",
       "        0.03277699, 0.03845657, 0.02386706, 0.01428606, 0.02397561,\n",
       "        0.01160419, 0.03820321, 0.04294186, 0.05131686, 0.02086556,\n",
       "        0.04137047, 0.01221   , 0.05706574, 0.05279534, 0.03737214,\n",
       "        0.0453774 , 0.02591572, 0.03979858, 0.04215615, 0.02762101,\n",
       "        0.03542945, 0.01865624, 0.01039853, 0.06452379, 0.02599781,\n",
       "        0.01615935, 0.05011785, 0.0657625 , 0.07046001, 0.06276078,\n",
       "        0.02521985, 0.00563397, 0.0580682 , 0.0501936 , 0.05399629,\n",
       "        0.05462614, 0.06112302, 0.07048973, 0.06931268, 0.05080453,\n",
       "        0.03347617, 0.06971364, 0.06700504, 0.02727665, 0.01393048,\n",
       "        0.01416431, 0.00923531, 0.02129138, 0.01172584, 0.03997361,\n",
       "        0.03168268, 0.02649353, 0.02822134, 0.04582655, 0.02427965,\n",
       "        0.02094051, 0.06924757, 0.02803829, 0.03610939, 0.02917247,\n",
       "        0.0199076 , 0.06242183, 0.03429273, 0.05270151, 0.0476207 ,\n",
       "        0.02785162, 0.04188141, 0.05770944, 0.01721893, 0.06399066,\n",
       "        0.02350568, 0.01785292, 0.02091064, 0.05674413, 0.02382677,\n",
       "        0.03653147, 0.03416124, 0.01211903, 0.05881041, 0.04148119,\n",
       "        0.07028342, 0.07289809, 0.05794584, 0.04515522, 0.03399814,\n",
       "        0.05843669, 0.04091539, 0.05951264, 0.02467046, 0.01779358,\n",
       "        0.03832927, 0.05788362, 0.02205417, 0.06225488, 0.02911941,\n",
       "        0.02589561, 0.02745084, 0.03880281, 0.04925072, 0.02989651,\n",
       "        0.00740796, 0.01196965, 0.03945674, 0.05640203, 0.02166236,\n",
       "        0.02443488, 0.06697991, 0.06630291, 0.02151792, 0.03647418,\n",
       "        0.04453286, 0.03830142, 0.02449241, 0.030629  , 0.02398341,\n",
       "        0.02754685, 0.0127748 , 0.01499599, 0.0492143 , 0.03694723,\n",
       "        0.03640654, 0.01020141, 0.05138914, 0.03332865, 0.01756446,\n",
       "        0.02603851, 0.04708835, 0.02942489, 0.04013963, 0.04861495,\n",
       "        0.02405288, 0.03705372, 0.02559166, 0.03350625, 0.06433363,\n",
       "        0.03536975, 0.02212812, 0.06420488, 0.03358969, 0.04059344,\n",
       "        0.02277243]], dtype=float32)"
      ]
     },
     "execution_count": 123,
     "metadata": {},
     "output_type": "execute_result"
    }
   ],
   "source": [
    "batch_is(data)"
   ]
  },
  {
   "cell_type": "code",
   "execution_count": null,
   "id": "452883dd-9697-435e-88df-b4b7321bad43",
   "metadata": {
    "editable": true,
    "slideshow": {
     "slide_type": ""
    },
    "tags": []
   },
   "outputs": [],
   "source": []
  }
 ],
 "metadata": {
  "kernelspec": {
   "display_name": "Python 3 (ipykernel)",
   "language": "python",
   "name": "python3"
  },
  "language_info": {
   "codemirror_mode": {
    "name": "ipython",
    "version": 3
   },
   "file_extension": ".py",
   "mimetype": "text/x-python",
   "name": "python",
   "nbconvert_exporter": "python",
   "pygments_lexer": "ipython3",
   "version": "3.8.16"
  }
 },
 "nbformat": 4,
 "nbformat_minor": 5
}
