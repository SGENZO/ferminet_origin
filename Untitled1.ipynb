{
 "cells": [
  {
   "cell_type": "code",
   "execution_count": 1,
   "id": "3c7c914a",
   "metadata": {},
   "outputs": [],
   "source": [
    "import functools\n",
    "import importlib\n",
    "import time\n",
    "from typing import Optional, Sequence, Tuple, Union\n",
    "\n",
    "from absl import logging\n",
    "import chex\n",
    "from ferminet import checkpoint\n",
    "from ferminet import constants\n",
    "from ferminet import curvature_tags_and_blocks\n",
    "from ferminet import envelopes\n",
    "from ferminet import hamiltonian\n",
    "from ferminet import loss as qmc_loss_functions\n",
    "from ferminet import mcmc\n",
    "from ferminet import networks\n",
    "from ferminet import pretrain\n",
    "from ferminet.utils import multi_host\n",
    "from ferminet.utils import statistics\n",
    "from ferminet.utils import system\n",
    "from ferminet.utils import writers\n",
    "import jax\n",
    "import jax.numpy as jnp\n",
    "import kfac_jax\n",
    "import ml_collections\n",
    "import numpy as np\n",
    "import optax\n",
    "from typing_extensions import Protocol\n",
    "from ferminet.configs import atom"
   ]
  },
  {
   "cell_type": "code",
   "execution_count": 7,
   "id": "332edcd8",
   "metadata": {},
   "outputs": [],
   "source": [
    "def evaluate(p1, p2, d1, d2):\n",
    "    result = p1@d1 + p2@d2\n",
    "    return result"
   ]
  },
  {
   "cell_type": "code",
   "execution_count": 8,
   "id": "a8204a33",
   "metadata": {},
   "outputs": [],
   "source": [
    "ba1 = 10 \n",
    "ba2 = 7"
   ]
  },
  {
   "cell_type": "code",
   "execution_count": 9,
   "id": "69cb3dda",
   "metadata": {},
   "outputs": [],
   "source": [
    "param1 = np.random.randn(1,ba1)\n",
    "param2 = np.random.randn(1,ba2)\n",
    "data1 = np.random.randn(ba1,1)\n",
    "data2 = np.random.randn(ba2,1)"
   ]
  },
  {
   "cell_type": "code",
   "execution_count": 11,
   "id": "2d060890",
   "metadata": {},
   "outputs": [
    {
     "data": {
      "text/plain": [
       "(1, 1)"
      ]
     },
     "execution_count": 11,
     "metadata": {},
     "output_type": "execute_result"
    }
   ],
   "source": [
    "evaluate(param1, param2, data1, data2).shape"
   ]
  },
  {
   "cell_type": "code",
   "execution_count": 13,
   "id": "9dc371ee",
   "metadata": {},
   "outputs": [],
   "source": [
    "cfg = atom.get_config()\n",
    "cfg.system.atom = 'H'\n",
    "cfg.system.spin_polarisation = None\n",
    "cfg = atom._adjust_nuclear_charge(cfg)\n",
    "cfg.batch_size = 128\n",
    "cfg.pretrain.iterations = 0"
   ]
  },
  {
   "cell_type": "code",
   "execution_count": 15,
   "id": "577deeee",
   "metadata": {},
   "outputs": [],
   "source": [
    "evaluate_psi = lambda param, data: evaluate(param, param2, data, data2)\n",
    "val_and_grad_psi = jax.value_and_grad(evaluate, argnums=0, has_aux=None)\n",
    "optimizer_psi = kfac_jax.Optimizer(\n",
    "    val_and_grad_psi,\n",
    "    l2_reg=cfg.optim.kfac.l2_reg,\n",
    "    norm_constraint=cfg.optim.kfac.norm_constraint,\n",
    "    value_func_has_aux=True,\n",
    "    value_func_has_rng=True,\n",
    "    #learning_rate_schedule=learning_rate_schedule,\n",
    "    curvature_ema=cfg.optim.kfac.cov_ema_decay,\n",
    "    inverse_update_period=cfg.optim.kfac.invert_every,\n",
    "    min_damping=cfg.optim.kfac.min_damping,\n",
    "    num_burnin_steps=0,\n",
    "    register_only_generic=cfg.optim.kfac.register_only_generic,\n",
    "    estimation_mode='fisher_exact',\n",
    "    multi_device=True,\n",
    "    pmap_axis_name=constants.PMAP_AXIS_NAME,\n",
    "    auto_register_kwargs=dict(\n",
    "        graph_patterns=curvature_tags_and_blocks.GRAPH_PATTERNS,\n",
    "    ),\n",
    ")"
   ]
  },
  {
   "cell_type": "code",
   "execution_count": 16,
   "id": "adeb553f",
   "metadata": {},
   "outputs": [],
   "source": [
    "evaluate_phi = lambda param, data: evaluate(param1, param, data1, data)\n",
    "val_and_grad_phi = jax.value_and_grad(evaluate, argnums=0, has_aux=None)\n",
    "optimizer_phi = kfac_jax.Optimizer(\n",
    "    val_and_grad_phi,\n",
    "    l2_reg=cfg.optim.kfac.l2_reg,\n",
    "    norm_constraint=cfg.optim.kfac.norm_constraint,\n",
    "    value_func_has_aux=True,\n",
    "    value_func_has_rng=True,\n",
    "    #learning_rate_schedule=learning_rate_schedule,\n",
    "    curvature_ema=cfg.optim.kfac.cov_ema_decay,\n",
    "    inverse_update_period=cfg.optim.kfac.invert_every,\n",
    "    min_damping=cfg.optim.kfac.min_damping,\n",
    "    num_burnin_steps=0,\n",
    "    register_only_generic=cfg.optim.kfac.register_only_generic,\n",
    "    estimation_mode='fisher_exact',\n",
    "    multi_device=True,\n",
    "    pmap_axis_name=constants.PMAP_AXIS_NAME,\n",
    "    auto_register_kwargs=dict(\n",
    "        graph_patterns=curvature_tags_and_blocks.GRAPH_PATTERNS,\n",
    "    ),\n",
    ")"
   ]
  },
  {
   "cell_type": "code",
   "execution_count": 17,
   "id": "62b4c7ec",
   "metadata": {},
   "outputs": [
    {
     "data": {
      "text/plain": [
       "array([[-1.23114835,  0.7966739 ,  0.64556191, -0.68944566, -2.23406556,\n",
       "         0.68504187,  1.01346511, -0.92029596, -0.53956469, -2.01436797]])"
      ]
     },
     "execution_count": 17,
     "metadata": {},
     "output_type": "execute_result"
    }
   ],
   "source": [
    "param1"
   ]
  },
  {
   "cell_type": "code",
   "execution_count": 19,
   "id": "8c5075bb",
   "metadata": {},
   "outputs": [
    {
     "data": {
      "text/plain": [
       "array([[-3.68795359]])"
      ]
     },
     "execution_count": 19,
     "metadata": {},
     "output_type": "execute_result"
    }
   ],
   "source": [
    "evaluate_phi(param2, data2)"
   ]
  },
  {
   "cell_type": "code",
   "execution_count": 20,
   "id": "5d90b6e5",
   "metadata": {},
   "outputs": [],
   "source": [
    "param1 = 10*param1"
   ]
  },
  {
   "cell_type": "code",
   "execution_count": 21,
   "id": "1b089cfb",
   "metadata": {},
   "outputs": [
    {
     "data": {
      "text/plain": [
       "array([[-11.81567361]])"
      ]
     },
     "execution_count": 21,
     "metadata": {},
     "output_type": "execute_result"
    }
   ],
   "source": [
    "evaluate_phi(param2, data2)"
   ]
  },
  {
   "cell_type": "code",
   "execution_count": 22,
   "id": "f7552bbb",
   "metadata": {},
   "outputs": [],
   "source": [
    "param1 = 0.1*param1"
   ]
  },
  {
   "cell_type": "code",
   "execution_count": 23,
   "id": "f13c159d",
   "metadata": {},
   "outputs": [
    {
     "data": {
      "text/plain": [
       "array([[-3.68795359]])"
      ]
     },
     "execution_count": 23,
     "metadata": {},
     "output_type": "execute_result"
    }
   ],
   "source": [
    "evaluate_phi(param2, data2)"
   ]
  },
  {
   "cell_type": "code",
   "execution_count": null,
   "id": "5b618288",
   "metadata": {},
   "outputs": [],
   "source": []
  }
 ],
 "metadata": {
  "kernelspec": {
   "display_name": "Python 3 (ipykernel)",
   "language": "python",
   "name": "python3"
  },
  "language_info": {
   "codemirror_mode": {
    "name": "ipython",
    "version": 3
   },
   "file_extension": ".py",
   "mimetype": "text/x-python",
   "name": "python",
   "nbconvert_exporter": "python",
   "pygments_lexer": "ipython3",
   "version": "3.8.16"
  }
 },
 "nbformat": 4,
 "nbformat_minor": 5
}
