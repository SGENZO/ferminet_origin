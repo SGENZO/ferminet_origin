{
 "cells": [
  {
   "cell_type": "code",
   "execution_count": 1,
   "id": "70de5b68-4190-4fa3-8706-33c023e7668b",
   "metadata": {
    "editable": true,
    "slideshow": {
     "slide_type": ""
    },
    "tags": []
   },
   "outputs": [],
   "source": [
    "from typing import Any, Sequence\n",
    "\n",
    "\n",
    "from ferminet import networks\n",
    "import jax\n",
    "from jax import lax\n",
    "import jax.numpy as jnp\n",
    "from typing_extensions import Protocol"
   ]
  },
  {
   "cell_type": "code",
   "execution_count": 2,
   "id": "a7c04990-f8cc-49c2-a0d4-9a63fb562dd0",
   "metadata": {},
   "outputs": [],
   "source": [
    "ndim = 3"
   ]
  },
  {
   "cell_type": "code",
   "execution_count": 20,
   "id": "245de187-aae5-4475-ba8f-4eec127a4498",
   "metadata": {},
   "outputs": [],
   "source": [
    "atoms = jnp.array([0,0,0])\n",
    "atoms = atoms.reshape(1, ndim)"
   ]
  },
  {
   "cell_type": "code",
   "execution_count": 23,
   "id": "11284377-0504-4f45-b4a6-7359a1cedf57",
   "metadata": {},
   "outputs": [
    {
     "data": {
      "text/plain": [
       "(1, 3)"
      ]
     },
     "execution_count": 23,
     "metadata": {},
     "output_type": "execute_result"
    }
   ],
   "source": [
    "atoms.shape"
   ]
  },
  {
   "cell_type": "code",
   "execution_count": 101,
   "id": "eea4ed09-f78e-4827-b7dd-c3b5338fb2ca",
   "metadata": {
    "editable": true,
    "slideshow": {
     "slide_type": ""
    },
    "tags": []
   },
   "outputs": [],
   "source": [
    "    def _i_s(data: jnp.ndarray) -> jnp.ndarray:\n",
    "        \n",
    "        ae, _, r_ae, _ = networks.construct_input_features(data, atoms)\n",
    "        \n",
    "        m, n, _ = r_ae.shape\n",
    "\n",
    "        pro_dis = jnp.zeros((m,n,1))\n",
    "        print(pro_dis)\n",
    "        for i in range(m):\n",
    "            for j in range(n):\n",
    "                if r_ae[i,j,1] <= 1:\n",
    "                    pro_dis = pro_dis.at[i,j,0].set(3/(4 * jnp.pi))\n",
    "        \n",
    "        \n",
    "        #batch_f = jax.vmap(f, in_axes=0, out_axes=0)\n",
    "        #result = batch_f(r_ae)\n",
    "\n",
    "        return pro_dis"
   ]
  },
  {
   "cell_type": "code",
   "execution_count": 102,
   "id": "41323e3b-9e90-45d4-89d7-439bf9e4921e",
   "metadata": {
    "editable": true,
    "slideshow": {
     "slide_type": ""
    },
    "tags": []
   },
   "outputs": [],
   "source": [
    "import numpy as np\n",
    "data = np.random.randn(8,1,3)"
   ]
  },
  {
   "cell_type": "code",
   "execution_count": 103,
   "id": "16f0a284-83ea-4d5f-a8f5-6e546cc7f609",
   "metadata": {},
   "outputs": [],
   "source": [
    "ae, _, r_ae, _ = networks.construct_input_features(data, atoms)"
   ]
  },
  {
   "cell_type": "code",
   "execution_count": 104,
   "id": "32c393ca-48ff-43b0-ad48-d7137456234f",
   "metadata": {},
   "outputs": [
    {
     "data": {
      "text/plain": [
       "Array([[[1.9866623]],\n",
       "\n",
       "       [[1.6132437]],\n",
       "\n",
       "       [[1.304676 ]],\n",
       "\n",
       "       [[3.072401 ]],\n",
       "\n",
       "       [[1.0750438]],\n",
       "\n",
       "       [[1.0779264]],\n",
       "\n",
       "       [[1.2778105]],\n",
       "\n",
       "       [[0.7945537]]], dtype=float32)"
      ]
     },
     "execution_count": 104,
     "metadata": {},
     "output_type": "execute_result"
    }
   ],
   "source": [
    "r_ae"
   ]
  },
  {
   "cell_type": "code",
   "execution_count": 105,
   "id": "3abf542e-7c59-4254-8bdb-a97f56d6b99d",
   "metadata": {},
   "outputs": [
    {
     "name": "stdout",
     "output_type": "stream",
     "text": [
      "[[[0.]]\n",
      "\n",
      " [[0.]]\n",
      "\n",
      " [[0.]]\n",
      "\n",
      " [[0.]]\n",
      "\n",
      " [[0.]]\n",
      "\n",
      " [[0.]]\n",
      "\n",
      " [[0.]]\n",
      "\n",
      " [[0.]]]\n"
     ]
    },
    {
     "data": {
      "text/plain": [
       "Array([[[0.        ]],\n",
       "\n",
       "       [[0.        ]],\n",
       "\n",
       "       [[0.        ]],\n",
       "\n",
       "       [[0.        ]],\n",
       "\n",
       "       [[0.        ]],\n",
       "\n",
       "       [[0.        ]],\n",
       "\n",
       "       [[0.        ]],\n",
       "\n",
       "       [[0.23873241]]], dtype=float32)"
      ]
     },
     "execution_count": 105,
     "metadata": {},
     "output_type": "execute_result"
    }
   ],
   "source": [
    "_i_s(data)"
   ]
  },
  {
   "cell_type": "code",
   "execution_count": null,
   "id": "64851173-40eb-4320-9b49-ebf5e98930d6",
   "metadata": {
    "editable": true,
    "slideshow": {
     "slide_type": ""
    },
    "tags": []
   },
   "outputs": [],
   "source": []
  }
 ],
 "metadata": {
  "kernelspec": {
   "display_name": "Python 3 (ipykernel)",
   "language": "python",
   "name": "python3"
  },
  "language_info": {
   "codemirror_mode": {
    "name": "ipython",
    "version": 3
   },
   "file_extension": ".py",
   "mimetype": "text/x-python",
   "name": "python",
   "nbconvert_exporter": "python",
   "pygments_lexer": "ipython3",
   "version": "3.8.16"
  }
 },
 "nbformat": 4,
 "nbformat_minor": 5
}
