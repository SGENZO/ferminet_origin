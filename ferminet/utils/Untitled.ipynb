{
 "cells": [
  {
   "cell_type": "code",
   "execution_count": 2,
   "id": "ed2a04ef-5b47-4ff0-b991-60071fe4e2bf",
   "metadata": {},
   "outputs": [],
   "source": [
    "import numpy as np\n",
    "import matplotlib.pyplot as plt\n",
    "import os\n",
    "from typing import Optional\n",
    "\n",
    "def save_lossplot(path: Optional[str],\n",
    "                  name: Optional[str]):\n",
    "\n",
    "    ckpt_path = path\n",
    "\n",
    "    for f in os.listdir(ckpt_path):\n",
    "        if '_stats' in f:\n",
    "            file = f\n",
    "\n",
    "    file = os.path.join(path, file)\n",
    "    energy = np.loadtxt(open(file,'rb'),delimiter=\",\",skiprows=1,usecols=[2])\n",
    "    loss = np.loadtxt(open(file,'rb'),delimiter=\",\",skiprows=1,usecols=[3])\n",
    "    xy = energy                  \n",
    "    z = loss\n",
    "    x = range(len(energy))\n",
    "\n",
    "    plt.figure()\n",
    "\n",
    "    # 去除顶部和右边框框\n",
    "    ax = plt.axes()\n",
    "    ax.spines['top'].set_visible(False)\n",
    "    ax.spines['right'].set_visible(False)\n",
    "\n",
    "    plt.xlabel('training steps')    # x轴标签\n",
    "    plt.ylabel('loss')     # y轴标签\n",
    "\t\n",
    "    # 以x_train_loss为横坐标，y_train_loss为纵坐标，曲线宽度为1，实线，增加标签，训练损失，\n",
    "    # 默认颜色，如果想更改颜色，可以增加参数color='red',这是红色。\n",
    "    plt.semilogx(x, z, linewidth=1, linestyle=\"solid\", label=\"train loss\")\n",
    "    plt.legend()\n",
    "    plt.title('Loss curve')\n",
    "\n",
    "    save_name = os.path.join(path, name + '_loss.png')\n",
    "    plt.savefig(save_name)\n",
    "    plt.close()"
   ]
  },
  {
   "cell_type": "code",
   "execution_count": null,
   "id": "822c9cf0-91e0-47bc-8c18-a1b3ec020e9b",
   "metadata": {},
   "outputs": [],
   "source": []
  },
  {
   "cell_type": "code",
   "execution_count": 3,
   "id": "b0115d50-6797-4998-8607-fc725b99a06b",
   "metadata": {},
   "outputs": [
    {
     "ename": "FileNotFoundError",
     "evalue": "[Errno 2] No such file or directory: 'ckpt'",
     "output_type": "error",
     "traceback": [
      "\u001b[0;31m---------------------------------------------------------------------------\u001b[0m",
      "\u001b[0;31mFileNotFoundError\u001b[0m                         Traceback (most recent call last)",
      "Cell \u001b[0;32mIn[3], line 1\u001b[0m\n\u001b[0;32m----> 1\u001b[0m \u001b[43msave_lossplot\u001b[49m\u001b[43m(\u001b[49m\u001b[38;5;124;43m'\u001b[39;49m\u001b[38;5;124;43mckpt\u001b[39;49m\u001b[38;5;124;43m'\u001b[39;49m\u001b[43m,\u001b[49m\u001b[43m \u001b[49m\u001b[38;5;124;43m'\u001b[39;49m\u001b[38;5;124;43mtest\u001b[39;49m\u001b[38;5;124;43m'\u001b[39;49m\u001b[43m)\u001b[49m\n",
      "Cell \u001b[0;32mIn[2], line 11\u001b[0m, in \u001b[0;36msave_lossplot\u001b[0;34m(path, name)\u001b[0m\n\u001b[1;32m      6\u001b[0m \u001b[38;5;28;01mdef\u001b[39;00m \u001b[38;5;21msave_lossplot\u001b[39m(path: Optional[\u001b[38;5;28mstr\u001b[39m],\n\u001b[1;32m      7\u001b[0m                   name: Optional[\u001b[38;5;28mstr\u001b[39m]):\n\u001b[1;32m      9\u001b[0m     ckpt_path \u001b[38;5;241m=\u001b[39m path\n\u001b[0;32m---> 11\u001b[0m     \u001b[38;5;28;01mfor\u001b[39;00m f \u001b[38;5;129;01min\u001b[39;00m \u001b[43mos\u001b[49m\u001b[38;5;241;43m.\u001b[39;49m\u001b[43mlistdir\u001b[49m\u001b[43m(\u001b[49m\u001b[43mckpt_path\u001b[49m\u001b[43m)\u001b[49m:\n\u001b[1;32m     12\u001b[0m         \u001b[38;5;28;01mif\u001b[39;00m \u001b[38;5;124m'\u001b[39m\u001b[38;5;124m_stats\u001b[39m\u001b[38;5;124m'\u001b[39m \u001b[38;5;129;01min\u001b[39;00m f:\n\u001b[1;32m     13\u001b[0m             file \u001b[38;5;241m=\u001b[39m f\n",
      "\u001b[0;31mFileNotFoundError\u001b[0m: [Errno 2] No such file or directory: 'ckpt'"
     ]
    }
   ],
   "source": [
    "save_lossplot('ckpt', 'test')"
   ]
  },
  {
   "cell_type": "code",
   "execution_count": 4,
   "id": "0411298d-7315-47c2-9a38-dab998fcac85",
   "metadata": {},
   "outputs": [
    {
     "data": {
      "text/plain": [
       "'/Users/ganggang/Desktop/Fermi-cmplx-semidis/ferminet/utils'"
      ]
     },
     "execution_count": 4,
     "metadata": {},
     "output_type": "execute_result"
    }
   ],
   "source": [
    "pwd"
   ]
  },
  {
   "cell_type": "code",
   "execution_count": null,
   "id": "0fddf32e-467c-4e9e-b04b-5e8c8694adc1",
   "metadata": {},
   "outputs": [],
   "source": []
  }
 ],
 "metadata": {
  "kernelspec": {
   "display_name": "Python 3 (ipykernel)",
   "language": "python",
   "name": "python3"
  },
  "language_info": {
   "codemirror_mode": {
    "name": "ipython",
    "version": 3
   },
   "file_extension": ".py",
   "mimetype": "text/x-python",
   "name": "python",
   "nbconvert_exporter": "python",
   "pygments_lexer": "ipython3",
   "version": "3.8.16"
  }
 },
 "nbformat": 4,
 "nbformat_minor": 5
}
