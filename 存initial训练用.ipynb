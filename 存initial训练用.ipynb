{
 "cells": [
  {
   "cell_type": "code",
   "execution_count": null,
   "id": "6ef8b6c5-e421-4784-b15a-d2c701a62ff0",
   "metadata": {},
   "outputs": [],
   "source": [
    "    ########\n",
    "\n",
    "\n",
    "\n",
    "    ####\n",
    "    # Checkpoints生成\n",
    "    ckpt_save_path_previous = os.path.join(ckpt_save_path, cfg.log.save_path_previous)\n",
    "    if not os.path.isdir(ckpt_save_path_previous):\n",
    "            os.makedirs(ckpt_save_path_previous)\n",
    "\n",
    "    # 训练初值f_previous = f_init\n",
    "    logging.info('Start to training initial state.')\n",
    "    key, subkey = jax.random.split(key)\n",
    "    # make sure data on each host is initialized differently\n",
    "    subkey = jax.random.fold_in(subkey, jax.process_index())\n",
    "    data_previous = init_electrons(\n",
    "            subkey,\n",
    "            cfg.system.molecule,\n",
    "            cfg.system.electrons,\n",
    "            batch_size=host_batch_size,\n",
    "            init_width=cfg.mcmc.init_width)\n",
    "    data_previous = jnp.reshape(data_previous, data_shape + data_previous.shape[1:])\n",
    "    data_previous = kfac_jax.utils.broadcast_all_local_devices(data_previous)   \n",
    "    t_init_previous = 0\n",
    "    opt_state_ckpt_previous = None\n",
    "    mcmc_width_ckpt_previous = None\n",
    "        \n",
    "    # sharded_key\n",
    "    sharded_key = kfac_jax.utils.make_different_rng_key_on_all_devices(key)\n",
    "\n",
    "    # 对params_previous进行预训练（这步是否有必要？初值不一定是hartree_fock形式）\n",
    "    sharded_key, subkeys = kfac_jax.utils.p_split(sharded_key)\n",
    "    params_previous, data_previous = initial_pretrain.pretrain_is(\n",
    "            params=params_previous,\n",
    "            data=data_previous,\n",
    "            batch_network=batch_network,\n",
    "            sharded_key=subkeys)\n",
    "\n",
    "    "
   ]
  }
 ],
 "metadata": {
  "kernelspec": {
   "display_name": "Python 3 (ipykernel)",
   "language": "python",
   "name": "python3"
  },
  "language_info": {
   "codemirror_mode": {
    "name": "ipython",
    "version": 3
   },
   "file_extension": ".py",
   "mimetype": "text/x-python",
   "name": "python",
   "nbconvert_exporter": "python",
   "pygments_lexer": "ipython3",
   "version": "3.8.16"
  }
 },
 "nbformat": 4,
 "nbformat_minor": 5
}
