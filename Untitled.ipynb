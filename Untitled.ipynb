{
 "cells": [
  {
   "cell_type": "code",
   "execution_count": 1,
   "id": "511871bf-a291-4875-ac7b-183b45a2fd12",
   "metadata": {},
   "outputs": [
    {
     "data": {
      "text/plain": [
       "'/Users/ganggang/Desktop/Fermi-cmplx-semidis'"
      ]
     },
     "execution_count": 1,
     "metadata": {},
     "output_type": "execute_result"
    }
   ],
   "source": [
    "pwd"
   ]
  },
  {
   "cell_type": "code",
   "execution_count": 40,
   "id": "53c58b69-a0b5-4284-859b-83f717e8dd46",
   "metadata": {},
   "outputs": [],
   "source": [
    "import numpy as np\n",
    "import matplotlib.pyplot as plt\n",
    "import os\n",
    "from typing import Optional\n",
    "\n",
    "def save_lossplot(path: Optional[str],\n",
    "                  name: Optional[str]):\n",
    "\n",
    "    ckpt_path = path\n",
    "\n",
    "    for f in os.listdir(ckpt_path):\n",
    "        if '_stats' in f:\n",
    "            file = f\n",
    "\n",
    "    file = os.path.join(path, file)\n",
    "    energy = np.loadtxt(open(file,'rb'),delimiter=\",\",skiprows=1,usecols=[2])\n",
    "    loss = np.loadtxt(open(file,'rb'),delimiter=\",\",skiprows=1,usecols=[3])\n",
    "    y = energy                  \n",
    "    z = loss\n",
    "    x = range(len(energy))\n",
    "\n",
    "    plt.figure()\n",
    "\n",
    "    # 去除顶部和右边框框\n",
    "    ax = plt.axes()\n",
    "    ax.spines['top'].set_visible(False)\n",
    "    ax.spines['right'].set_visible(False)\n",
    "\n",
    "    plt.xlabel('training steps')    # x轴标签\n",
    "    plt.ylabel('loss')     # y轴标签\n",
    "    plt.grid()\n",
    "\t\n",
    "    # 以x_train_loss为横坐标，y_train_loss为纵坐标，曲线宽度为1，实线，增加标签，训练损失，\n",
    "    # 默认颜色，如果想更改颜色，可以增加参数color='red',这是红色。\n",
    "    plt.semilogy(x, z, linewidth=1, linestyle=\"solid\", label=\"train loss\")\n",
    "    plt.legend()\n",
    "\n",
    "    plt.title('Loss curve')\n",
    "\n",
    "    save_name = os.path.join(path, name + '_loss.png')\n",
    "    plt.savefig(save_name)\n",
    "    plt.close()"
   ]
  },
  {
   "cell_type": "code",
   "execution_count": 41,
   "id": "274b0188-a565-49fd-8767-42c07a4b03a4",
   "metadata": {},
   "outputs": [],
   "source": [
    "save_lossplot('ckpt', 'test')"
   ]
  },
  {
   "cell_type": "code",
   "execution_count": null,
   "id": "6d21c150-b70f-408b-a820-dad45bc76bf1",
   "metadata": {},
   "outputs": [],
   "source": []
  }
 ],
 "metadata": {
  "kernelspec": {
   "display_name": "Python 3 (ipykernel)",
   "language": "python",
   "name": "python3"
  },
  "language_info": {
   "codemirror_mode": {
    "name": "ipython",
    "version": 3
   },
   "file_extension": ".py",
   "mimetype": "text/x-python",
   "name": "python",
   "nbconvert_exporter": "python",
   "pygments_lexer": "ipython3",
   "version": "3.8.16"
  }
 },
 "nbformat": 4,
 "nbformat_minor": 5
}
