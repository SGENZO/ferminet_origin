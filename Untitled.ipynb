{
 "cells": [
  {
   "cell_type": "code",
   "execution_count": 1,
   "id": "cefe8069",
   "metadata": {},
   "outputs": [],
   "source": [
    "import functools\n",
    "import importlib\n",
    "import time\n",
    "from typing import Optional, Sequence, Tuple, Union\n",
    "\n",
    "from absl import logging\n",
    "import chex\n",
    "from ferminet import checkpoint\n",
    "from ferminet import constants\n",
    "from ferminet import curvature_tags_and_blocks\n",
    "from ferminet import envelopes\n",
    "from ferminet import hamiltonian\n",
    "from ferminet import loss as qmc_loss_functions\n",
    "from ferminet import mcmc\n",
    "from ferminet import networks\n",
    "from ferminet import pretrain\n",
    "from ferminet.utils import multi_host\n",
    "from ferminet.utils import statistics\n",
    "from ferminet.utils import system\n",
    "from ferminet.utils import writers\n",
    "import jax\n",
    "import jax.numpy as jnp\n",
    "import kfac_jax\n",
    "import ml_collections\n",
    "import numpy as np\n",
    "import optax\n",
    "from typing_extensions import Protocol"
   ]
  },
  {
   "cell_type": "code",
   "execution_count": 2,
   "id": "4833a3d2",
   "metadata": {},
   "outputs": [],
   "source": [
    "def init_electrons(\n",
    "        key,\n",
    "        molecule: Sequence[system.Atom],\n",
    "        electrons: Sequence[int],\n",
    "        batch_size: int,\n",
    "        init_width: float,\n",
    ") -> jnp.ndarray:\n",
    "    \"\"\"Initializes electron positions around each atom.\n",
    "\n",
    "  Args:\n",
    "    key: JAX RNG state.\n",
    "    molecule: system.Atom objects making up the molecule.\n",
    "    electrons: tuple of number of alpha and beta electrons.\n",
    "    batch_size: total number of MCMC configurations to generate across all\n",
    "      devices.\n",
    "    init_width: width of (atom-centred) Gaussian used to generate initial\n",
    "      electron configurations.\n",
    "\n",
    "  Returns:\n",
    "    array of (batch_size, (nalpha+nbeta)*ndim) of initial (random) electron\n",
    "    positions in the initial MCMC configurations and ndim is the dimensionality\n",
    "    of the space (i.e. typically 3).\n",
    "  \"\"\"\n",
    "    if sum(atom.charge for atom in molecule) != sum(electrons):\n",
    "        if len(molecule) == 1:\n",
    "            atomic_spin_configs = [electrons]\n",
    "        else:\n",
    "            raise NotImplementedError('No initialization policy yet '\n",
    "                                      'exists for charged molecules.')\n",
    "    else:\n",
    "        atomic_spin_configs = [\n",
    "            (atom.element.nalpha, atom.element.nbeta) for atom in molecule\n",
    "        ]\n",
    "        assert sum(sum(x) for x in atomic_spin_configs) == sum(electrons)\n",
    "        while tuple(sum(x) for x in zip(*atomic_spin_configs)) != electrons:\n",
    "            i = np.random.randint(len(atomic_spin_configs))\n",
    "            nalpha, nbeta = atomic_spin_configs[i]\n",
    "            atomic_spin_configs[i] = nbeta, nalpha\n",
    "\n",
    "    # Assign each electron to an atom initially.\n",
    "    electron_positions = []\n",
    "    for i in range(2):\n",
    "        for j in range(len(molecule)):\n",
    "            atom_position = jnp.asarray(molecule[j].coords)\n",
    "            electron_positions.append(\n",
    "                jnp.tile(atom_position, atomic_spin_configs[j][i]))\n",
    "    electron_positions = jnp.concatenate(electron_positions)\n",
    "    # Create a batch of configurations with a Gaussian distribution about each\n",
    "    # atom.\n",
    "    key, subkey = jax.random.split(key)\n",
    "    return (\n",
    "            electron_positions +\n",
    "            init_width *\n",
    "            jax.random.normal(subkey, shape=(batch_size, electron_positions.size)))"
   ]
  },
  {
   "cell_type": "code",
   "execution_count": 3,
   "id": "a8b1ff40",
   "metadata": {},
   "outputs": [],
   "source": [
    "writer_manager=None"
   ]
  },
  {
   "cell_type": "code",
   "execution_count": 4,
   "id": "266ea187",
   "metadata": {},
   "outputs": [],
   "source": [
    "from ferminet.configs import atom"
   ]
  },
  {
   "cell_type": "code",
   "execution_count": 5,
   "id": "a80b2b21",
   "metadata": {},
   "outputs": [],
   "source": [
    "cfg = atom.get_config()\n",
    "cfg.system.atom = 'H'\n",
    "cfg.system.spin_polarisation = None\n",
    "cfg = atom._adjust_nuclear_charge(cfg)\n",
    "cfg.batch_size = 128\n",
    "cfg.pretrain.iterations = 0"
   ]
  },
  {
   "cell_type": "code",
   "execution_count": 6,
   "id": "f437c41b",
   "metadata": {},
   "outputs": [],
   "source": [
    "num_devices = jax.local_device_count()\n",
    "num_hosts = jax.device_count() // num_devices\n",
    "logging.info('Starting QMC with %i XLA devices per host '\n",
    "                 'across %i hosts.', num_devices, num_hosts)\n",
    "if cfg.batch_size % (num_devices * num_hosts) != 0:\n",
    "    raise ValueError('Batch size must be divisible by number of devices, '\n",
    "                         f'got batch size {cfg.batch_size} for '\n",
    "                         f'{num_devices * num_hosts} devices.')\n",
    "host_batch_size = cfg.batch_size // num_hosts  # batch size per host\n",
    "device_batch_size = host_batch_size // num_devices  # batch size per device\n",
    "data_shape = (num_devices, device_batch_size)\n",
    "\n",
    " # Check if mol is a pyscf molecule and convert to internal representation\n",
    "if cfg.system.pyscf_mol:\n",
    "    cfg.update(\n",
    "        system.pyscf_mol_to_internal_representation(cfg.system.pyscf_mol))"
   ]
  },
  {
   "cell_type": "code",
   "execution_count": 7,
   "id": "36bce8b1",
   "metadata": {},
   "outputs": [],
   "source": [
    "atoms = jnp.stack([jnp.array(atom.coords) for atom in cfg.system.molecule])\n",
    "charges = jnp.array([atom.charge for atom in cfg.system.molecule])\n",
    "nspins = cfg.system.electrons"
   ]
  },
  {
   "cell_type": "code",
   "execution_count": 8,
   "id": "ceeb9e9f",
   "metadata": {},
   "outputs": [],
   "source": [
    "if cfg.debug.deterministic:\n",
    "    seed = 23\n",
    "else:\n",
    "    seed = 1e6 * time.time()\n",
    "    seed = int(multi_host.broadcast_to_hosts(seed))\n",
    "key = jax.random.PRNGKey(seed)"
   ]
  },
  {
   "cell_type": "code",
   "execution_count": 9,
   "id": "e678d231",
   "metadata": {},
   "outputs": [],
   "source": [
    "if cfg.pretrain.method == 'direct_init' or (\n",
    "        cfg.pretrain.method == 'hf' and cfg.pretrain.iterations > 0):\n",
    "    hartree_fock = pretrain.get_hf(\n",
    "        pyscf_mol=cfg.system.get('pyscf_mol'),\n",
    "        molecule=cfg.system.molecule,\n",
    "        nspins=nspins,\n",
    "        restricted=False,\n",
    "        basis=cfg.pretrain.basis)\n",
    "    # broadcast the result of PySCF from host 0 to all other hosts\n",
    "    hartree_fock.mean_field.mo_coeff = tuple([\n",
    "        multi_host.broadcast_to_hosts(x)\n",
    "        for x in hartree_fock.mean_field.mo_coeff\n",
    "    ])"
   ]
  },
  {
   "cell_type": "code",
   "execution_count": 10,
   "id": "1791d985",
   "metadata": {},
   "outputs": [],
   "source": [
    "hf_solution = hartree_fock if cfg.pretrain.method == 'direct_init' else None"
   ]
  },
  {
   "cell_type": "code",
   "execution_count": 11,
   "id": "7685bea2",
   "metadata": {},
   "outputs": [],
   "source": [
    "if cfg.network.make_feature_layer_fn:\n",
    "    feature_layer_module, feature_layer_fn = (\n",
    "        cfg.network.make_feature_layer_fn.rsplit('.', maxsplit=1))\n",
    "    feature_layer_module = importlib.import_module(feature_layer_module)\n",
    "    make_feature_layer = getattr(feature_layer_module, feature_layer_fn)\n",
    "    feature_layer = make_feature_layer(\n",
    "        charges,\n",
    "        cfg.system.electrons,\n",
    "        cfg.system.ndim,\n",
    "        **cfg.network.make_feature_layer_kwargs)  # type: networks.FeatureLayer\n",
    "else:\n",
    "    feature_layer = networks.make_ferminet_features(\n",
    "        charges,\n",
    "        cfg.system.electrons,\n",
    "        cfg.system.ndim,\n",
    "    )"
   ]
  },
  {
   "cell_type": "code",
   "execution_count": 12,
   "id": "e75bf1c7",
   "metadata": {},
   "outputs": [],
   "source": [
    "if cfg.network.make_envelope_fn:\n",
    "    envelope_module, envelope_fn = (\n",
    "        cfg.network.make_envelope_fn.rsplit('.', maxsplit=1))\n",
    "    envelope_module = importlib.import_module(envelope_module)\n",
    "    make_envelope = getattr(envelope_module, envelope_fn)\n",
    "    envelope = make_envelope(**cfg.network.make_envelope_kwargs)  # type: envelopes.Envelope\n",
    "else:\n",
    "    envelope = envelopes.make_isotropic_envelope()"
   ]
  },
  {
   "cell_type": "code",
   "execution_count": 13,
   "id": "a316a6f7",
   "metadata": {},
   "outputs": [],
   "source": [
    "network_init, signed_network, network_options = networks.make_fermi_net(\n",
    "    atoms,\n",
    "    nspins,\n",
    "    charges,\n",
    "    envelope=envelope,\n",
    "    feature_layer=feature_layer,\n",
    "    bias_orbitals=cfg.network.bias_orbitals,\n",
    "    use_last_layer=cfg.network.use_last_layer,\n",
    "    hf_solution=hf_solution,\n",
    "    full_det=cfg.network.full_det,\n",
    "    ndim=cfg.system.ndim,\n",
    "    **cfg.network.detnet)\n",
    "key, subkey = jax.random.split(key)\n",
    "params_psi = network_init(subkey)\n",
    "params_psi = kfac_jax.utils.replicate_all_local_devices(params_psi)\n",
    "key, subkey = jax.random.split(key)\n",
    "params_phi = network_init(subkey)\n",
    "params_phi = kfac_jax.utils.replicate_all_local_devices(params_phi)\n",
    "# Often just need log|psi(x)|.\n",
    "network = lambda *args, **kwargs: signed_network(*args, **kwargs)[1]  # type: networks.LogFermiNetLike\n",
    "batch_network = jax.vmap(\n",
    "    network, in_axes=(None, 0), out_axes=0)"
   ]
  },
  {
   "cell_type": "code",
   "execution_count": 14,
   "id": "c97e6170",
   "metadata": {},
   "outputs": [
    {
     "data": {
      "text/plain": [
       "dict_keys(['double', 'envelope', 'input', 'orbital', 'single'])"
      ]
     },
     "execution_count": 14,
     "metadata": {},
     "output_type": "execute_result"
    }
   ],
   "source": [
    "params_psi.keys()"
   ]
  },
  {
   "cell_type": "code",
   "execution_count": 15,
   "id": "7fb464bb",
   "metadata": {},
   "outputs": [
    {
     "data": {
      "text/plain": [
       "['double', 3, 'envelope', 1, 'input', 0, 'orbital', 1, 'single', 4]"
      ]
     },
     "execution_count": 15,
     "metadata": {},
     "output_type": "execute_result"
    }
   ],
   "source": [
    "lenofp = []\n",
    "for h in params_psi.keys():\n",
    "    lenofp.append(h)\n",
    "    lenofp.append(len(params_psi[h]))\n",
    "lenofp"
   ]
  },
  {
   "cell_type": "code",
   "execution_count": 16,
   "id": "bced396b",
   "metadata": {},
   "outputs": [],
   "source": [
    "logging.info('No checkpoint found. Training new model.')\n",
    "key, subkey = jax.random.split(key)\n",
    "# make sure data on each host is initialized differently\n",
    "subkey = jax.random.fold_in(subkey, jax.process_index())\n",
    "data_psi = init_electrons(\n",
    "    subkey,\n",
    "    cfg.system.molecule,\n",
    "    cfg.system.electrons,\n",
    "    batch_size=host_batch_size,\n",
    "    init_width=cfg.mcmc.init_width)\n",
    "data_psi = jnp.reshape(data_psi, data_shape + data_psi.shape[1:])\n",
    "data_psi = kfac_jax.utils.broadcast_all_local_devices(data_psi)\n",
    "key, subkey = jax.random.split(key)\n",
    "# make sure data on each host is initialized differently\n",
    "subkey = jax.random.fold_in(subkey, jax.process_index())\n",
    "data_phi = init_electrons(\n",
    "    subkey,\n",
    "    cfg.system.molecule,\n",
    "    cfg.system.electrons,\n",
    "    batch_size=host_batch_size,\n",
    "    init_width=cfg.mcmc.init_width)\n",
    "data_phi = jnp.reshape(data_phi, data_shape + data_phi.shape[1:])\n",
    "data_phi = kfac_jax.utils.broadcast_all_local_devices(data_phi)\n",
    "t_init = 0\n",
    "opt_state_ckpt = None\n",
    "mcmc_width_ckpt = None"
   ]
  },
  {
   "cell_type": "code",
   "execution_count": 17,
   "id": "abf8058e",
   "metadata": {},
   "outputs": [
    {
     "data": {
      "text/plain": [
       "(1, 128, 3)"
      ]
     },
     "execution_count": 17,
     "metadata": {},
     "output_type": "execute_result"
    }
   ],
   "source": [
    "data_psi.shape #=(1, batch, ndim*ne)"
   ]
  },
  {
   "cell_type": "code",
   "execution_count": 18,
   "id": "26d84b00",
   "metadata": {},
   "outputs": [],
   "source": [
    "params_previous = params_psi"
   ]
  },
  {
   "cell_type": "code",
   "execution_count": 19,
   "id": "c4c4b170",
   "metadata": {},
   "outputs": [],
   "source": [
    "local_energy = hamiltonian.local_energy(\n",
    "    f=signed_network,\n",
    "    atoms=atoms,\n",
    "    charges=charges,\n",
    "    nspins=nspins,\n",
    "    use_scan=False)"
   ]
  },
  {
   "cell_type": "code",
   "execution_count": 20,
   "id": "050f5526",
   "metadata": {},
   "outputs": [],
   "source": [
    "evaluate_loss = qmc_loss_functions.make_loss(\n",
    "    network,\n",
    "    local_energy,\n",
    "    clip_local_energy=cfg.optim.clip_el)"
   ]
  },
  {
   "cell_type": "code",
   "execution_count": 21,
   "id": "17949cd2",
   "metadata": {},
   "outputs": [
    {
     "name": "stdout",
     "output_type": "stream",
     "text": [
      "5\n",
      "5\n",
      "(1, 128, 3)\n",
      "(1, 128, 3)\n"
     ]
    }
   ],
   "source": [
    "print(len(params_psi))\n",
    "print(len(params_phi))\n",
    "print(data_psi.shape)\n",
    "print(data_phi.shape)"
   ]
  },
  {
   "cell_type": "code",
   "execution_count": 27,
   "id": "7a4a12f0",
   "metadata": {
    "scrolled": true
   },
   "outputs": [],
   "source": [
    "sharded_key = kfac_jax.utils.make_different_rng_key_on_all_devices(key)\n",
    "sharded_key, subkeys = kfac_jax.utils.p_split(sharded_key)\n",
    "\n",
    "ptotal_energy = constants.pmap(evaluate_loss)\n",
    "initial_energy, _ = ptotal_energy(params_psi, params_phi, params_previous, subkeys, data_psi, data_phi)"
   ]
  },
  {
   "cell_type": "code",
   "execution_count": 28,
   "id": "fc35e052",
   "metadata": {},
   "outputs": [
    {
     "name": "stdout",
     "output_type": "stream",
     "text": [
      "[0.10496587]\n"
     ]
    }
   ],
   "source": [
    "print(initial_energy)"
   ]
  },
  {
   "cell_type": "code",
   "execution_count": 23,
   "id": "a1bb3c4e",
   "metadata": {},
   "outputs": [],
   "source": [
    "def learning_rate_schedule(t_: jnp.ndarray) -> jnp.ndarray:\n",
    "    return cfg.optim.lr.rate * jnp.power(\n",
    "        (1.0 / (1.0 + (t_ / cfg.optim.lr.delay))), cfg.optim.lr.decay)"
   ]
  },
  {
   "cell_type": "code",
   "execution_count": 24,
   "id": "ceca1739",
   "metadata": {},
   "outputs": [],
   "source": [
    "optimizer = optax.chain(\n",
    "    optax.scale_by_adam(**cfg.optim.adam),\n",
    "    optax.scale_by_schedule(learning_rate_schedule),\n",
    "    optax.scale(-1.))"
   ]
  },
  {
   "cell_type": "code",
   "execution_count": 25,
   "id": "509c9662",
   "metadata": {},
   "outputs": [],
   "source": [
    "opt_state_psi = jax.pmap(optimizer.init)(params_psi)\n",
    "opt_state_psi = opt_state_ckpt or opt_state_psi  # avoid overwriting ckpted state\n",
    "opt_state_phi = jax.pmap(optimizer.init)(params_phi)\n",
    "opt_state_phi = opt_state_ckpt or opt_state_phi  # avoid overwriting ckpted state"
   ]
  },
  {
   "cell_type": "code",
   "execution_count": 29,
   "id": "61567a93",
   "metadata": {},
   "outputs": [
    {
     "ename": "ValueError",
     "evalue": "pmap got inconsistent sizes for array axes to be mapped:\n  * most axes (53 of them) had size 1, e.g. axis 0 of argument params_psi['double'][0]['b'] of type float32[1,32];\n  * one axis had size 2: axis 0 of argument key of type uint32[2]",
     "output_type": "error",
     "traceback": [
      "\u001b[0;31m---------------------------------------------------------------------------\u001b[0m",
      "\u001b[0;31mValueError\u001b[0m                                Traceback (most recent call last)",
      "Cell \u001b[0;32mIn[29], line 4\u001b[0m\n\u001b[1;32m      1\u001b[0m evaluate_loss_psi \u001b[38;5;241m=\u001b[39m \u001b[38;5;28;01mlambda\u001b[39;00m params, keys, data: \\\n\u001b[1;32m      2\u001b[0m     ptotal_energy(params, params_phi, params_previous, keys, data, data_phi)\n\u001b[1;32m      3\u001b[0m loss_and_grad_psi \u001b[38;5;241m=\u001b[39m jax\u001b[38;5;241m.\u001b[39mvalue_and_grad(evaluate_loss_psi, argnums\u001b[38;5;241m=\u001b[39m\u001b[38;5;241m0\u001b[39m, has_aux\u001b[38;5;241m=\u001b[39m\u001b[38;5;28;01mTrue\u001b[39;00m)\n\u001b[0;32m----> 4\u001b[0m (loss, aux_data), grad_psi \u001b[38;5;241m=\u001b[39m \u001b[43mloss_and_grad_psi\u001b[49m\u001b[43m(\u001b[49m\u001b[43mparams_psi\u001b[49m\u001b[43m,\u001b[49m\u001b[43m \u001b[49m\u001b[43mkey\u001b[49m\u001b[43m,\u001b[49m\u001b[43m \u001b[49m\u001b[43mdata_psi\u001b[49m\u001b[43m)\u001b[49m\n\u001b[1;32m      5\u001b[0m grad_psi \u001b[38;5;241m=\u001b[39m constants\u001b[38;5;241m.\u001b[39mpmean(grad_psi)\n\u001b[1;32m      6\u001b[0m updates_psi, opt_state_psi \u001b[38;5;241m=\u001b[39m optimizer\u001b[38;5;241m.\u001b[39mupdate(grad_psi, opt_state_psi, params_psi)\n",
      "    \u001b[0;31m[... skipping hidden 8 frame]\u001b[0m\n",
      "Cell \u001b[0;32mIn[29], line 2\u001b[0m, in \u001b[0;36m<lambda>\u001b[0;34m(params, keys, data)\u001b[0m\n\u001b[1;32m      1\u001b[0m evaluate_loss_psi \u001b[38;5;241m=\u001b[39m \u001b[38;5;28;01mlambda\u001b[39;00m params, keys, data: \\\n\u001b[0;32m----> 2\u001b[0m     \u001b[43mptotal_energy\u001b[49m\u001b[43m(\u001b[49m\u001b[43mparams\u001b[49m\u001b[43m,\u001b[49m\u001b[43m \u001b[49m\u001b[43mparams_phi\u001b[49m\u001b[43m,\u001b[49m\u001b[43m \u001b[49m\u001b[43mparams_previous\u001b[49m\u001b[43m,\u001b[49m\u001b[43m \u001b[49m\u001b[43mkeys\u001b[49m\u001b[43m,\u001b[49m\u001b[43m \u001b[49m\u001b[43mdata\u001b[49m\u001b[43m,\u001b[49m\u001b[43m \u001b[49m\u001b[43mdata_phi\u001b[49m\u001b[43m)\u001b[49m\n\u001b[1;32m      3\u001b[0m loss_and_grad_psi \u001b[38;5;241m=\u001b[39m jax\u001b[38;5;241m.\u001b[39mvalue_and_grad(evaluate_loss_psi, argnums\u001b[38;5;241m=\u001b[39m\u001b[38;5;241m0\u001b[39m, has_aux\u001b[38;5;241m=\u001b[39m\u001b[38;5;28;01mTrue\u001b[39;00m)\n\u001b[1;32m      4\u001b[0m (loss, aux_data), grad_psi \u001b[38;5;241m=\u001b[39m loss_and_grad_psi(params_psi, key, data_psi)\n",
      "    \u001b[0;31m[... skipping hidden 3 frame]\u001b[0m\n",
      "File \u001b[0;32m~/opt/anaconda3/envs/ferminetsemidis/lib/python3.8/site-packages/jax/_src/api.py:1850\u001b[0m, in \u001b[0;36m_mapped_axis_size\u001b[0;34m(fn, tree, vals, dims, name)\u001b[0m\n\u001b[1;32m   1848\u001b[0m   \u001b[38;5;28;01melse\u001b[39;00m:\n\u001b[1;32m   1849\u001b[0m     msg\u001b[38;5;241m.\u001b[39mappend(\u001b[38;5;124mf\u001b[39m\u001b[38;5;124m\"\u001b[39m\u001b[38;5;124m  * some axes (\u001b[39m\u001b[38;5;132;01m{\u001b[39;00mct\u001b[38;5;132;01m}\u001b[39;00m\u001b[38;5;124m of them) had size \u001b[39m\u001b[38;5;132;01m{\u001b[39;00msz\u001b[38;5;132;01m}\u001b[39;00m\u001b[38;5;124m, e.g. axis \u001b[39m\u001b[38;5;132;01m{\u001b[39;00max\u001b[38;5;132;01m}\u001b[39;00m\u001b[38;5;124m of \u001b[39m\u001b[38;5;132;01m{\u001b[39;00mex\u001b[38;5;132;01m}\u001b[39;00m\u001b[38;5;124m;\u001b[39m\u001b[38;5;130;01m\\n\u001b[39;00m\u001b[38;5;124m\"\u001b[39m)\n\u001b[0;32m-> 1850\u001b[0m \u001b[38;5;28;01mraise\u001b[39;00m \u001b[38;5;167;01mValueError\u001b[39;00m(\u001b[38;5;124m'\u001b[39m\u001b[38;5;124m'\u001b[39m\u001b[38;5;241m.\u001b[39mjoin(msg)[:\u001b[38;5;241m-\u001b[39m\u001b[38;5;241m2\u001b[39m])\n",
      "\u001b[0;31mValueError\u001b[0m: pmap got inconsistent sizes for array axes to be mapped:\n  * most axes (53 of them) had size 1, e.g. axis 0 of argument params_psi['double'][0]['b'] of type float32[1,32];\n  * one axis had size 2: axis 0 of argument key of type uint32[2]"
     ]
    }
   ],
   "source": [
    "        evaluate_loss_psi = lambda params, keys, data: \\\n",
    "            ptotal_energy(params, params_phi, params_previous, keys, data, data_phi)\n",
    "        loss_and_grad_psi = jax.value_and_grad(evaluate_loss_psi, argnums=0, has_aux=True)\n",
    "        (loss, aux_data), grad_psi = loss_and_grad_psi(params_psi, key, data_psi)\n",
    "        grad_psi = constants.pmean(grad_psi)\n",
    "        updates_psi, opt_state_psi = optimizer.update(grad_psi, opt_state_psi, params_psi)\n",
    "        params_psi = optax.apply_updates(params_psi, updates_psi)"
   ]
  },
  {
   "cell_type": "code",
   "execution_count": null,
   "id": "101b9d37",
   "metadata": {},
   "outputs": [],
   "source": []
  }
 ],
 "metadata": {
  "kernelspec": {
   "display_name": "Python 3 (ipykernel)",
   "language": "python",
   "name": "python3"
  },
  "language_info": {
   "codemirror_mode": {
    "name": "ipython",
    "version": 3
   },
   "file_extension": ".py",
   "mimetype": "text/x-python",
   "name": "python",
   "nbconvert_exporter": "python",
   "pygments_lexer": "ipython3",
   "version": "3.8.16"
  }
 },
 "nbformat": 4,
 "nbformat_minor": 5
}
